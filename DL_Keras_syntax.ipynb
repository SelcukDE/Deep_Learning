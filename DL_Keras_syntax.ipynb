{
 "cells": [
  {
   "source": [
    "# Keras Syntax Basics"
   ],
   "cell_type": "markdown",
   "metadata": {}
  },
  {
   "cell_type": "code",
   "execution_count": 34,
   "metadata": {
    "id": "a20LHdPzCPC-"
   },
   "outputs": [],
   "source": [
    "import pandas as pd"
   ]
  },
  {
   "cell_type": "code",
   "execution_count": null,
   "metadata": {
    "id": "VPgj3qiHCitC"
   },
   "outputs": [],
   "source": [
    "df = pd.read_csv(\"fake_reg.csv\")"
   ]
  },
  {
   "cell_type": "code",
   "execution_count": 36,
   "metadata": {
    "colab": {
     "base_uri": "https://localhost:8080/",
     "height": 195
    },
    "executionInfo": {
     "elapsed": 839,
     "status": "ok",
     "timestamp": 1609690689099,
     "user": {
      "displayName": "Richard C",
      "photoUrl": "",
      "userId": "08040814671867660929"
     },
     "user_tz": -180
    },
    "id": "F4idZf_HCn-N",
    "outputId": "54352a80-022e-4189-f6f0-8516eee6dd75"
   },
   "outputs": [
    {
     "output_type": "execute_result",
     "data": {
      "text/plain": [
       "        price     feature1     feature2\n",
       "0  461.527929   999.787558   999.766096\n",
       "1  548.130011   998.861615  1001.042403\n",
       "2  410.297162  1000.070267   998.844015\n",
       "3  540.382220   999.952251  1000.440940\n",
       "4  546.024553  1000.446011  1000.338531"
      ],
      "text/html": "<div>\n<style scoped>\n    .dataframe tbody tr th:only-of-type {\n        vertical-align: middle;\n    }\n\n    .dataframe tbody tr th {\n        vertical-align: top;\n    }\n\n    .dataframe thead th {\n        text-align: right;\n    }\n</style>\n<table border=\"1\" class=\"dataframe\">\n  <thead>\n    <tr style=\"text-align: right;\">\n      <th></th>\n      <th>price</th>\n      <th>feature1</th>\n      <th>feature2</th>\n    </tr>\n  </thead>\n  <tbody>\n    <tr>\n      <th>0</th>\n      <td>461.527929</td>\n      <td>999.787558</td>\n      <td>999.766096</td>\n    </tr>\n    <tr>\n      <th>1</th>\n      <td>548.130011</td>\n      <td>998.861615</td>\n      <td>1001.042403</td>\n    </tr>\n    <tr>\n      <th>2</th>\n      <td>410.297162</td>\n      <td>1000.070267</td>\n      <td>998.844015</td>\n    </tr>\n    <tr>\n      <th>3</th>\n      <td>540.382220</td>\n      <td>999.952251</td>\n      <td>1000.440940</td>\n    </tr>\n    <tr>\n      <th>4</th>\n      <td>546.024553</td>\n      <td>1000.446011</td>\n      <td>1000.338531</td>\n    </tr>\n  </tbody>\n</table>\n</div>"
     },
     "metadata": {},
     "execution_count": 36
    }
   ],
   "source": [
    "df.head()"
   ]
  },
  {
   "cell_type": "code",
   "execution_count": 37,
   "metadata": {
    "colab": {
     "base_uri": "https://localhost:8080/"
    },
    "executionInfo": {
     "elapsed": 47555,
     "status": "ok",
     "timestamp": 1609691018858,
     "user": {
      "displayName": "Richard C",
      "photoUrl": "",
      "userId": "08040814671867660929"
     },
     "user_tz": -180
    },
    "id": "lqoJdMc1CsqW",
    "outputId": "7b3402ab-540b-42bb-e957-cd0e88c2248d"
   },
   "outputs": [],
   "source": [
    "# from google.colab import drive\r\n",
    "# drive.mount('/content/drive')"
   ]
  },
  {
   "cell_type": "code",
   "execution_count": 38,
   "metadata": {
    "id": "9JcRT-LjD-hC"
   },
   "outputs": [],
   "source": [
    "# df=pd.read_csv('drive/MyDrive/Colab Notebooks/DATA/fake_reg.csv')"
   ]
  },
  {
   "cell_type": "code",
   "execution_count": 39,
   "metadata": {
    "colab": {
     "base_uri": "https://localhost:8080/",
     "height": 195
    },
    "executionInfo": {
     "elapsed": 1540,
     "status": "ok",
     "timestamp": 1609691074136,
     "user": {
      "displayName": "Richard C",
      "photoUrl": "",
      "userId": "08040814671867660929"
     },
     "user_tz": -180
    },
    "id": "-CccA4zwEElF",
    "outputId": "5aef50ff-d1a1-436a-a4d0-da92ebe28683"
   },
   "outputs": [],
   "source": [
    "# df.head()"
   ]
  },
  {
   "cell_type": "code",
   "execution_count": 40,
   "metadata": {
    "colab": {
     "base_uri": "https://localhost:8080/"
    },
    "executionInfo": {
     "elapsed": 803,
     "status": "ok",
     "timestamp": 1609691252422,
     "user": {
      "displayName": "Richard C",
      "photoUrl": "",
      "userId": "08040814671867660929"
     },
     "user_tz": -180
    },
    "id": "eXIKKSSCENVh",
    "outputId": "f5919edb-0505-4c23-bd7c-e84ccb877d06"
   },
   "outputs": [
    {
     "output_type": "execute_result",
     "data": {
      "text/plain": [
       "(1000, 3)"
      ]
     },
     "metadata": {},
     "execution_count": 40
    }
   ],
   "source": [
    "df.shape"
   ]
  },
  {
   "cell_type": "code",
   "execution_count": 41,
   "metadata": {
    "colab": {
     "base_uri": "https://localhost:8080/"
    },
    "executionInfo": {
     "elapsed": 684,
     "status": "ok",
     "timestamp": 1609691275828,
     "user": {
      "displayName": "Richard C",
      "photoUrl": "",
      "userId": "08040814671867660929"
     },
     "user_tz": -180
    },
    "id": "50bn5JJtE0Mi",
    "outputId": "f2d107db-5312-44e3-f8a2-74362e7d8459"
   },
   "outputs": [
    {
     "output_type": "execute_result",
     "data": {
      "text/plain": [
       "False"
      ]
     },
     "metadata": {},
     "execution_count": 41
    }
   ],
   "source": [
    "df.isnull().sum().any()"
   ]
  },
  {
   "cell_type": "code",
   "execution_count": 42,
   "metadata": {
    "id": "uSoweyZ7E58O"
   },
   "outputs": [],
   "source": [
    "import seaborn as sns\r\n",
    "import matplotlib.pyplot as pl\r\n"
   ]
  },
  {
   "cell_type": "code",
   "execution_count": 43,
   "metadata": {
    "colab": {
     "base_uri": "https://localhost:8080/",
     "height": 567
    },
    "executionInfo": {
     "elapsed": 5042,
     "status": "ok",
     "timestamp": 1609691372219,
     "user": {
      "displayName": "Richard C",
      "photoUrl": "",
      "userId": "08040814671867660929"
     },
     "user_tz": -180
    },
    "id": "BWhtkIQ0FLPN",
    "outputId": "6c31fd5b-8841-4bbc-da72-d34352abce00"
   },
   "outputs": [],
   "source": [
    "sns.pairplot(df)"
   ]
  },
  {
   "cell_type": "code",
   "execution_count": 8,
   "metadata": {
    "colab": {
     "base_uri": "https://localhost:8080/",
     "height": 141
    },
    "executionInfo": {
     "elapsed": 753,
     "status": "ok",
     "timestamp": 1609691483985,
     "user": {
      "displayName": "Richard C",
      "photoUrl": "",
      "userId": "08040814671867660929"
     },
     "user_tz": -180
    },
    "id": "MPDlUaZQFQZx",
    "outputId": "c7900030-d486-4ba5-db86-2646cf5d4e9c"
   },
   "outputs": [
    {
     "output_type": "execute_result",
     "data": {
      "text/plain": [
       "             price  feature1  feature2\n",
       "price     1.000000  0.444190  0.907576\n",
       "feature1  0.444190  1.000000  0.030607\n",
       "feature2  0.907576  0.030607  1.000000"
      ],
      "text/html": "<div>\n<style scoped>\n    .dataframe tbody tr th:only-of-type {\n        vertical-align: middle;\n    }\n\n    .dataframe tbody tr th {\n        vertical-align: top;\n    }\n\n    .dataframe thead th {\n        text-align: right;\n    }\n</style>\n<table border=\"1\" class=\"dataframe\">\n  <thead>\n    <tr style=\"text-align: right;\">\n      <th></th>\n      <th>price</th>\n      <th>feature1</th>\n      <th>feature2</th>\n    </tr>\n  </thead>\n  <tbody>\n    <tr>\n      <th>price</th>\n      <td>1.000000</td>\n      <td>0.444190</td>\n      <td>0.907576</td>\n    </tr>\n    <tr>\n      <th>feature1</th>\n      <td>0.444190</td>\n      <td>1.000000</td>\n      <td>0.030607</td>\n    </tr>\n    <tr>\n      <th>feature2</th>\n      <td>0.907576</td>\n      <td>0.030607</td>\n      <td>1.000000</td>\n    </tr>\n  </tbody>\n</table>\n</div>"
     },
     "metadata": {},
     "execution_count": 8
    }
   ],
   "source": [
    "df.corr()"
   ]
  },
  {
   "cell_type": "code",
   "execution_count": 9,
   "metadata": {
    "id": "K24ur0uCFwBE"
   },
   "outputs": [],
   "source": [
    "from sklearn.model_selection import train_test_split"
   ]
  },
  {
   "cell_type": "code",
   "execution_count": 10,
   "metadata": {
    "id": "V0eI-V-WGA8G"
   },
   "outputs": [],
   "source": [
    "X = df[[\"feature1\", \"feature2\"]].values"
   ]
  },
  {
   "cell_type": "code",
   "execution_count": 11,
   "metadata": {
    "id": "FANjvg5xGc4n"
   },
   "outputs": [],
   "source": [
    "y=df[\"price\"].values"
   ]
  },
  {
   "cell_type": "code",
   "execution_count": 12,
   "metadata": {
    "id": "3qapExXsGoPi"
   },
   "outputs": [],
   "source": [
    "X_train, X_test, y_train, y_test = train_test_split(X,y,test_size=0.3,random_state=42)"
   ]
  },
  {
   "cell_type": "code",
   "execution_count": 13,
   "metadata": {
    "colab": {
     "base_uri": "https://localhost:8080/"
    },
    "executionInfo": {
     "elapsed": 1027,
     "status": "ok",
     "timestamp": 1609696714238,
     "user": {
      "displayName": "Richard C",
      "photoUrl": "",
      "userId": "08040814671867660929"
     },
     "user_tz": -180
    },
    "id": "3LJTYRL-GuxG",
    "outputId": "3b31100f-8e1d-49c2-aa8b-e3c518c60391"
   },
   "outputs": [
    {
     "output_type": "execute_result",
     "data": {
      "text/plain": [
       "(700, 2)"
      ]
     },
     "metadata": {},
     "execution_count": 13
    }
   ],
   "source": [
    "X_train.shape"
   ]
  },
  {
   "cell_type": "code",
   "execution_count": 14,
   "metadata": {
    "colab": {
     "base_uri": "https://localhost:8080/"
    },
    "executionInfo": {
     "elapsed": 724,
     "status": "ok",
     "timestamp": 1609696717232,
     "user": {
      "displayName": "Richard C",
      "photoUrl": "",
      "userId": "08040814671867660929"
     },
     "user_tz": -180
    },
    "id": "vd_J76_NGu24",
    "outputId": "5ff8ee71-7b1f-4045-a8ae-6fb6234b5cac"
   },
   "outputs": [
    {
     "output_type": "execute_result",
     "data": {
      "text/plain": [
       "array([[1001.63407565,  998.80950388],\n",
       "       [ 999.76150137,  998.41802414],\n",
       "       [ 998.2638401 , 1000.92030063],\n",
       "       ...,\n",
       "       [1000.47386523, 1001.44542815],\n",
       "       [ 998.8625673 ,  999.15662112],\n",
       "       [1000.55690247,  999.35441706]])"
      ]
     },
     "metadata": {},
     "execution_count": 14
    }
   ],
   "source": [
    "X_train"
   ]
  },
  {
   "cell_type": "code",
   "execution_count": 15,
   "metadata": {
    "id": "dAPmE0BlG7iH"
   },
   "outputs": [],
   "source": [
    "#scaling data"
   ]
  },
  {
   "cell_type": "code",
   "execution_count": 16,
   "metadata": {
    "id": "SATVaqm7HH7h"
   },
   "outputs": [],
   "source": [
    "from sklearn.preprocessing import MinMaxScaler"
   ]
  },
  {
   "cell_type": "code",
   "execution_count": 17,
   "metadata": {
    "id": "KcgAeQVMHZA3"
   },
   "outputs": [],
   "source": [
    "scaler2 = MinMaxScaler()"
   ]
  },
  {
   "cell_type": "code",
   "execution_count": 18,
   "metadata": {
    "colab": {
     "base_uri": "https://localhost:8080/"
    },
    "executionInfo": {
     "elapsed": 550,
     "status": "ok",
     "timestamp": 1609696727777,
     "user": {
      "displayName": "Richard C",
      "photoUrl": "",
      "userId": "08040814671867660929"
     },
     "user_tz": -180
    },
    "id": "79M307MeH_64",
    "outputId": "ad7d0bc3-f52d-40f3-c4dc-129018e895d5"
   },
   "outputs": [
    {
     "output_type": "execute_result",
     "data": {
      "text/plain": [
       "MinMaxScaler()"
      ]
     },
     "metadata": {},
     "execution_count": 18
    }
   ],
   "source": [
    "scaler2.fit(X_train)"
   ]
  },
  {
   "cell_type": "code",
   "execution_count": 19,
   "metadata": {
    "id": "OnsnfAr5IUtG"
   },
   "outputs": [],
   "source": [
    "X_train = scaler2.transform(X_train)"
   ]
  },
  {
   "cell_type": "code",
   "execution_count": 20,
   "metadata": {
    "id": "_K8bB7KAIi_H"
   },
   "outputs": [],
   "source": [
    "X_test = scaler2.transform(X_test)"
   ]
  },
  {
   "cell_type": "code",
   "execution_count": 21,
   "metadata": {
    "colab": {
     "base_uri": "https://localhost:8080/"
    },
    "executionInfo": {
     "elapsed": 709,
     "status": "ok",
     "timestamp": 1609696732432,
     "user": {
      "displayName": "Richard C",
      "photoUrl": "",
      "userId": "08040814671867660929"
     },
     "user_tz": -180
    },
    "id": "OYqxXAEbI092",
    "outputId": "f319d5f5-388b-4dd8-f837-471d39cc9700"
   },
   "outputs": [
    {
     "output_type": "execute_result",
     "data": {
      "text/plain": [
       "0.0"
      ]
     },
     "metadata": {},
     "execution_count": 21
    }
   ],
   "source": [
    "X_train.min()"
   ]
  },
  {
   "cell_type": "code",
   "execution_count": 22,
   "metadata": {
    "colab": {
     "base_uri": "https://localhost:8080/"
    },
    "executionInfo": {
     "elapsed": 640,
     "status": "ok",
     "timestamp": 1609696733334,
     "user": {
      "displayName": "Richard C",
      "photoUrl": "",
      "userId": "08040814671867660929"
     },
     "user_tz": -180
    },
    "id": "cYRD2qkDI4Ve",
    "outputId": "09a767a0-b9c1-4ef6-bd90-f8355a05bd1f"
   },
   "outputs": [
    {
     "output_type": "execute_result",
     "data": {
      "text/plain": [
       "1.0"
      ]
     },
     "metadata": {},
     "execution_count": 22
    }
   ],
   "source": [
    "X_train.max()"
   ]
  },
  {
   "cell_type": "code",
   "execution_count": null,
   "metadata": {},
   "outputs": [],
   "source": []
  },
  {
   "cell_type": "markdown",
   "metadata": {
    "id": "z8-gHH_GJj-g"
   },
   "source": [
    "TensorFlow Syntax\r\n",
    "(use %tensorflow_version 1.x to use old versions of tf)"
   ]
  },
  {
   "cell_type": "code",
   "execution_count": 1,
   "metadata": {},
   "outputs": [],
   "source": [
    "# pip install tensorflow"
   ]
  },
  {
   "cell_type": "code",
   "execution_count": 2,
   "metadata": {
    "id": "XdUhiCWgJjP1"
   },
   "outputs": [
    {
     "output_type": "error",
     "ename": "ModuleNotFoundError",
     "evalue": "No module named 'tensorflow'",
     "traceback": [
      "\u001b[1;31m---------------------------------------------------------------------------\u001b[0m",
      "\u001b[1;31mModuleNotFoundError\u001b[0m                       Traceback (most recent call last)",
      "\u001b[1;32m<ipython-input-2-64156d691fe5>\u001b[0m in \u001b[0;36m<module>\u001b[1;34m\u001b[0m\n\u001b[1;32m----> 1\u001b[1;33m \u001b[1;32mimport\u001b[0m \u001b[0mtensorflow\u001b[0m \u001b[1;32mas\u001b[0m \u001b[0mtf\u001b[0m\u001b[1;33m\u001b[0m\u001b[1;33m\u001b[0m\u001b[0m\n\u001b[0m",
      "\u001b[1;31mModuleNotFoundError\u001b[0m: No module named 'tensorflow'"
     ]
    }
   ],
   "source": [
    "import tensorflow as tf"
   ]
  },
  {
   "cell_type": "code",
   "execution_count": 26,
   "metadata": {
    "colab": {
     "base_uri": "https://localhost:8080/",
     "height": 35
    },
    "executionInfo": {
     "elapsed": 1368,
     "status": "ok",
     "timestamp": 1609694771662,
     "user": {
      "displayName": "Richard C",
      "photoUrl": "",
      "userId": "08040814671867660929"
     },
     "user_tz": -180
    },
    "id": "c3zRM_1sI6xs",
    "outputId": "a76a38b0-aa66-4b36-c174-416a3561e3d1"
   },
   "outputs": [
    {
     "output_type": "error",
     "ename": "NameError",
     "evalue": "name 'tf' is not defined",
     "traceback": [
      "\u001b[1;31m---------------------------------------------------------------------------\u001b[0m",
      "\u001b[1;31mNameError\u001b[0m                                 Traceback (most recent call last)",
      "\u001b[1;32m<ipython-input-26-65996cac02ec>\u001b[0m in \u001b[0;36m<module>\u001b[1;34m\u001b[0m\n\u001b[1;32m----> 1\u001b[1;33m \u001b[0mtf\u001b[0m\u001b[1;33m.\u001b[0m\u001b[0m__version__\u001b[0m\u001b[1;33m\u001b[0m\u001b[1;33m\u001b[0m\u001b[0m\n\u001b[0m",
      "\u001b[1;31mNameError\u001b[0m: name 'tf' is not defined"
     ]
    }
   ],
   "source": [
    "tf.__version__"
   ]
  },
  {
   "cell_type": "code",
   "execution_count": 31,
   "metadata": {
    "id": "DpcXQagMJwbf"
   },
   "outputs": [],
   "source": [
    "from tensorflow.keras.models import Sequential"
   ]
  },
  {
   "cell_type": "code",
   "execution_count": 32,
   "metadata": {
    "id": "06qrdGsxTLKf"
   },
   "outputs": [],
   "source": [
    "from tensorflow.keras.layers import Dense, Activation"
   ]
  },
  {
   "cell_type": "code",
   "execution_count": 33,
   "metadata": {
    "id": "o7i5SkdqTXhj"
   },
   "outputs": [],
   "source": [
    "model6 = Sequential()\r\n",
    "model6.add(Dense(4, input_dim=2, activation=\"relu\"))           #input_dim = 2  or input_dim = X_train.shape[0]\r\n",
    "model6.add(Dense(4, activation=\"relu\"))\r\n",
    "model6.add(Dense(2, activation=\"relu\"))\r\n",
    "model6.add(Dense(1))\r\n",
    "model6.compile(optimizer=\"rmsprop\", loss=\"mse\")"
   ]
  },
  {
   "cell_type": "code",
   "execution_count": null,
   "metadata": {
    "colab": {
     "base_uri": "https://localhost:8080/"
    },
    "executionInfo": {
     "elapsed": 14224,
     "status": "ok",
     "timestamp": 1609697636140,
     "user": {
      "displayName": "Richard C",
      "photoUrl": "",
      "userId": "08040814671867660929"
     },
     "user_tz": -180
    },
    "id": "TAXFz028TXkO",
    "outputId": "b0608b5f-1c6e-449b-d853-642ab2185cda"
   },
   "outputs": [
    {
     "name": "stdout",
     "output_type": "stream",
     "text": [
      "Train on 700 samples\n",
      "Epoch 1/250\n",
      "700/700 [==============================] - ETA: 0s - loss: 255587.58 - 10s 14ms/sample - loss: 256770.6914\n",
      "Epoch 2/250\n",
      "700/700 [==============================] - 1s 1ms/sample - loss: 256666.2096\n",
      "Epoch 3/250\n",
      "700/700 [==============================] - 1s 1ms/sample - loss: 256613.7689\n",
      "Epoch 4/250\n",
      "700/700 [==============================] - 1s 1ms/sample - loss: 256569.3648\n",
      "Epoch 5/250\n",
      "700/700 [==============================] - 1s 1ms/sample - loss: 256525.43680s - loss:\n",
      "Epoch 6/250\n",
      "700/700 [==============================] - 1s 974us/sample - loss: 256481.7001\n",
      "Epoch 7/250\n",
      "700/700 [==============================] - 1s 1ms/sample - loss: 256438.0421\n",
      "Epoch 8/250\n",
      "700/700 [==============================] - 1s 1ms/sample - loss: 256394.2273\n",
      "Epoch 9/250\n",
      "700/700 [==============================] - 1s 1ms/sample - loss: 256350.3996\n",
      "Epoch 10/250\n",
      "700/700 [==============================] - 1s 2ms/sample - loss: 256306.60040s - loss: 253 - ETA: 0s - loss:\n",
      "Epoch 11/250\n",
      "700/700 [==============================] - 1s 1ms/sample - loss: 256263.0256\n",
      "Epoch 12/250\n",
      "700/700 [==============================] - 1s 1ms/sample - loss: 256219.2776\n",
      "Epoch 13/250\n",
      "700/700 [==============================] - 1s 1ms/sample - loss: 256175.4888\n",
      "Epoch 14/250\n",
      "700/700 [==============================] - 1s 1ms/sample - loss: 256131.73950s - loss: 25785\n",
      "Epoch 15/250\n",
      "700/700 [==============================] - 1s 1ms/sample - loss: 256087.9986\n",
      "Epoch 16/250\n",
      "700/700 [==============================] - 1s 1ms/sample - loss: 256044.3480\n",
      "Epoch 17/250\n",
      "700/700 [==============================] - 1s 1ms/sample - loss: 256000.7546\n",
      "Epoch 18/250\n",
      "700/700 [==============================] - 1s 1ms/sample - loss: 255956.9225\n",
      "Epoch 19/250\n",
      "700/700 [==============================] - 1s 1ms/sample - loss: 255913.1912\n",
      "Epoch 20/250\n",
      "700/700 [==============================] - 1s 1ms/sample - loss: 255869.56490s - loss:\n",
      "Epoch 21/250\n",
      "700/700 [==============================] - 1s 1ms/sample - loss: 255825.7927\n",
      "Epoch 22/250\n",
      "700/700 [==============================] - 1s 1ms/sample - loss: 255782.23700s - loss: 2 - ETA: 0s - loss: 255219.20\n",
      "Epoch 23/250\n",
      "700/700 [==============================] - 1s 1ms/sample - loss: 255738.4178\n",
      "Epoch 24/250\n",
      "700/700 [==============================] - 1s 1ms/sample - loss: 255694.8444\n",
      "Epoch 25/250\n",
      "700/700 [==============================] - 1s 1ms/sample - loss: 255651.1517\n",
      "Epoch 26/250\n",
      "700/700 [==============================] - 1s 2ms/sample - loss: 255607.7547\n",
      "Epoch 27/250\n",
      "700/700 [==============================] - 1s 1ms/sample - loss: 255563.86000s - loss: 251067. - ETA: 0s - loss: - ETA: 0s - loss: 25314\n",
      "Epoch 28/250\n",
      "700/700 [==============================] - ETA: 0s - loss: 255352.8001 ETA: 0s - loss: - 1s 1ms/sample - loss: 255520.1264\n",
      "Epoch 29/250\n",
      "700/700 [==============================] - 1s 1ms/sample - loss: 255476.5495\n",
      "Epoch 30/250\n",
      "700/700 [==============================] - 1s 991us/sample - loss: 255432.8079 - loss: 256266.\n",
      "Epoch 31/250\n",
      "700/700 [==============================] - 1s 875us/sample - loss: 255389.1148 - loss: 248636.48 - ETA: 0s - l\n",
      "Epoch 32/250\n",
      "700/700 [==============================] - 1s 1ms/sample - loss: 255345.6504\n",
      "Epoch 33/250\n",
      "700/700 [==============================] - 1s 2ms/sample - loss: 255301.9541\n",
      "Epoch 34/250\n",
      "700/700 [==============================] - 1s 2ms/sample - loss: 255258.15880s - loss: 25408\n",
      "Epoch 35/250\n",
      "700/700 [==============================] - 1s 1ms/sample - loss: 255214.5446\n",
      "Epoch 36/250\n",
      "700/700 [==============================] - 1s 2ms/sample - loss: 255171.1485\n",
      "Epoch 37/250\n",
      "700/700 [==============================] - 1s 1ms/sample - loss: 255127.5057\n",
      "Epoch 38/250\n",
      "700/700 [==============================] - 1s 1ms/sample - loss: 255083.7965\n",
      "Epoch 39/250\n",
      "700/700 [==============================] - 1s 1ms/sample - loss: 255040.0745\n",
      "Epoch 40/250\n",
      "700/700 [==============================] - 1s 1ms/sample - loss: 254996.5133\n",
      "Epoch 41/250\n",
      "700/700 [==============================] - 1s 1ms/sample - loss: 254952.9834\n",
      "Epoch 42/250\n",
      "700/700 [==============================] - 1s 1ms/sample - loss: 254909.4171\n",
      "Epoch 43/250\n",
      "700/700 [==============================] - 1s 1ms/sample - loss: 254865.72140s - loss: 2 - ETA: 0s - los\n",
      "Epoch 44/250\n",
      "700/700 [==============================] - 1s 1ms/sample - loss: 254822.23130s - loss: 257111.06 - ETA: 0s - loss: 256\n",
      "Epoch 45/250\n",
      "700/700 [==============================] - 1s 1ms/sample - loss: 254778.5811\n",
      "Epoch 46/250\n",
      "700/700 [==============================] - 1s 1ms/sample - loss: 254735.0302\n",
      "Epoch 47/250\n",
      "700/700 [==============================] - 1s 1ms/sample - loss: 254691.3798\n",
      "Epoch 48/250\n",
      "700/700 [==============================] - 1s 970us/sample - loss: 254647.8623\n",
      "Epoch 49/250\n",
      "700/700 [==============================] - 1s 1ms/sample - loss: 254604.22050s\n",
      "Epoch 50/250\n",
      "700/700 [==============================] - 1s 1ms/sample - loss: 254560.6770\n",
      "Epoch 51/250\n",
      "700/700 [==============================] - 1s 1ms/sample - loss: 254517.0848\n",
      "Epoch 52/250\n",
      "700/700 [==============================] - 1s 1ms/sample - loss: 254473.4682\n",
      "Epoch 53/250\n",
      "700/700 [==============================] - 1s 1ms/sample - loss: 254430.0207\n",
      "Epoch 54/250\n",
      "700/700 [==============================] - 1s 1ms/sample - loss: 254386.4470\n",
      "Epoch 55/250\n",
      "700/700 [==============================] - 1s 1ms/sample - loss: 254342.7884\n",
      "Epoch 56/250\n",
      "700/700 [==============================] - 1s 1ms/sample - loss: 254299.21110s\n",
      "Epoch 57/250\n",
      "700/700 [==============================] - 1s 1ms/sample - loss: 254255.5431\n",
      "Epoch 58/250\n",
      "700/700 [==============================] - 1s 1ms/sample - loss: 254212.1412\n",
      "Epoch 59/250\n",
      "700/700 [==============================] - 1s 1ms/sample - loss: 254168.5671\n",
      "Epoch 60/250\n",
      "700/700 [==============================] - 1s 1ms/sample - loss: 254125.0729\n",
      "Epoch 61/250\n",
      "700/700 [==============================] - 1s 1ms/sample - loss: 254081.5936\n",
      "Epoch 62/250\n",
      "700/700 [==============================] - 1s 1ms/sample - loss: 254038.04730s - loss: 25405\n",
      "Epoch 63/250\n",
      "700/700 [==============================] - 1s 1ms/sample - loss: 253994.4243\n",
      "Epoch 64/250\n",
      "700/700 [==============================] - 1s 1ms/sample - loss: 253950.9215\n",
      "Epoch 65/250\n",
      "700/700 [==============================] - ETA: 0s - loss: 253834.4263 ETA: 0s - loss: 256 - 1s 1ms/sample - loss: 253907.5180\n",
      "Epoch 66/250\n",
      "700/700 [==============================] - 1s 1ms/sample - loss: 253863.9954\n",
      "Epoch 67/250\n",
      "700/700 [==============================] - 1s 1ms/sample - loss: 253820.3014\n",
      "Epoch 68/250\n",
      "700/700 [==============================] - 1s 1ms/sample - loss: 253776.81420s - l\n",
      "Epoch 69/250\n",
      "700/700 [==============================] - 1s 1ms/sample - loss: 253733.4162\n",
      "Epoch 70/250\n",
      "700/700 [==============================] - 1s 1ms/sample - loss: 253690.1297\n",
      "Epoch 71/250\n",
      "700/700 [==============================] - 1s 1ms/sample - loss: 253646.4277\n",
      "Epoch 72/250\n",
      "700/700 [==============================] - 1s 2ms/sample - loss: 253602.8767\n",
      "Epoch 73/250\n",
      "700/700 [==============================] - 1s 2ms/sample - loss: 253559.4931\n",
      "Epoch 74/250\n",
      "700/700 [==============================] - 1s 1ms/sample - loss: 253515.9547\n",
      "Epoch 75/250\n",
      "700/700 [==============================] - 1s 1ms/sample - loss: 253472.4344\n",
      "Epoch 76/250\n",
      "700/700 [==============================] - 1s 1ms/sample - loss: 253428.8672\n",
      "Epoch 77/250\n",
      "700/700 [==============================] - 1s 1ms/sample - loss: 253385.5554\n",
      "Epoch 78/250\n",
      "700/700 [==============================] - 1s 1ms/sample - loss: 253342.16740s - loss: 253946.\n",
      "Epoch 79/250\n",
      "700/700 [==============================] - 1s 1ms/sample - loss: 253298.48460s -\n",
      "Epoch 80/250\n",
      "700/700 [==============================] - 1s 1ms/sample - loss: 253255.1793\n",
      "Epoch 81/250\n",
      "700/700 [==============================] - 1s 2ms/sample - loss: 253211.6692\n",
      "Epoch 82/250\n",
      "700/700 [==============================] - 1s 1ms/sample - loss: 253168.3002\n",
      "Epoch 83/250\n",
      "700/700 [==============================] - 1s 1ms/sample - loss: 253124.8430\n",
      "Epoch 84/250\n",
      "700/700 [==============================] - 1s 1ms/sample - loss: 253081.4369\n",
      "Epoch 85/250\n",
      "700/700 [==============================] - 1s 1ms/sample - loss: 253037.8043\n",
      "Epoch 86/250\n",
      "700/700 [==============================] - 1s 1ms/sample - loss: 252994.4442\n",
      "Epoch 87/250\n",
      "700/700 [==============================] - 1s 1ms/sample - loss: 252950.9147\n",
      "Epoch 88/250\n",
      "700/700 [==============================] - 1s 1ms/sample - loss: 252907.66240s\n",
      "Epoch 89/250\n",
      "700/700 [==============================] - 1s 1ms/sample - loss: 252864.20600s - loss:\n",
      "Epoch 90/250\n",
      "700/700 [==============================] - 1s 1ms/sample - loss: 252820.8275\n",
      "Epoch 91/250\n",
      "700/700 [==============================] - 1s 1ms/sample - loss: 252777.38570s\n",
      "Epoch 92/250\n",
      "700/700 [==============================] - 1s 1ms/sample - loss: 252733.9121\n",
      "Epoch 93/250\n",
      "700/700 [==============================] - 1s 1ms/sample - loss: 252690.68590s - los - ETA: 0s - loss: 25167\n",
      "Epoch 94/250\n",
      "700/700 [==============================] - 1s 1ms/sample - loss: 252647.2204\n",
      "Epoch 95/250\n",
      "700/700 [==============================] - 1s 1ms/sample - loss: 252603.65790s - loss: 249\n",
      "Epoch 96/250\n",
      "700/700 [==============================] - ETA: 0s - loss: 253235.67 - 1s 1ms/sample - loss: 252560.3270\n",
      "Epoch 97/250\n",
      "700/700 [==============================] - 1s 1ms/sample - loss: 252516.9942\n",
      "Epoch 98/250\n",
      "700/700 [==============================] - 1s 1ms/sample - loss: 252473.5935\n",
      "Epoch 99/250\n",
      "700/700 [==============================] - 1s 1ms/sample - loss: 252430.37320s - loss: 252748.\n",
      "Epoch 100/250\n",
      "700/700 [==============================] - 1s 1ms/sample - loss: 252386.9165\n",
      "Epoch 101/250\n",
      "700/700 [==============================] - 1s 1ms/sample - loss: 252343.5300\n",
      "Epoch 102/250\n",
      "700/700 [==============================] - 1s 1ms/sample - loss: 252300.1353\n",
      "Epoch 103/250\n",
      "700/700 [==============================] - 1s 1ms/sample - loss: 252256.63590s\n",
      "Epoch 104/250\n",
      "700/700 [==============================] - 1s 1ms/sample - loss: 252213.3394\n",
      "Epoch 105/250\n",
      "700/700 [==============================] - 1s 1ms/sample - loss: 252169.9373\n",
      "Epoch 106/250\n",
      "224/700 [========>.....................] - ETA: 0s - loss: 252595.7288"
     ]
    }
   ],
   "source": [
    "model6.fit(X_train, y_train, batch_size=16, epochs=250)"
   ]
  },
  {
   "cell_type": "code",
   "execution_count": null,
   "metadata": {
    "colab": {
     "base_uri": "https://localhost:8080/"
    },
    "executionInfo": {
     "elapsed": 813,
     "status": "ok",
     "timestamp": 1609698650350,
     "user": {
      "displayName": "Richard C",
      "photoUrl": "",
      "userId": "08040814671867660929"
     },
     "user_tz": -180
    },
    "id": "8KPU0R2-YaWY",
    "outputId": "c61de307-af8e-428c-87a6-4326b64fb4f1"
   },
   "outputs": [],
   "source": [
    "model6.summary()"
   ]
  },
  {
   "cell_type": "code",
   "execution_count": null,
   "metadata": {
    "id": "SEBWFHhyiu5W"
   },
   "outputs": [],
   "source": [
    "loss_df=pd.DataFrame(model6.history.history)"
   ]
  },
  {
   "cell_type": "code",
   "execution_count": null,
   "metadata": {
    "colab": {
     "base_uri": "https://localhost:8080/",
     "height": 282
    },
    "executionInfo": {
     "elapsed": 1784,
     "status": "ok",
     "timestamp": 1609699281249,
     "user": {
      "displayName": "Richard C",
      "photoUrl": "",
      "userId": "08040814671867660929"
     },
     "user_tz": -180
    },
    "id": "d3YnREPSizsq",
    "outputId": "eecca895-63ad-4e1a-8925-25a2a8e6778f"
   },
   "outputs": [
    {
     "data": {
      "text/plain": [
       "<matplotlib.axes._subplots.AxesSubplot at 0x7f975eb4f978>"
      ]
     },
     "execution_count": 40,
     "metadata": {
      "tags": []
     },
     "output_type": "execute_result"
    },
    {
     "data": {
      "image/png": "[encoded data removed]",
      "text/plain": [
       "<Figure size 432x288 with 1 Axes>"
      ]
     },
     "metadata": {
      "needs_background": "light",
      "tags": []
     },
     "output_type": "display_data"
    }
   ],
   "source": [
    "loss_df.plot()"
   ]
  },
  {
   "cell_type": "code",
   "execution_count": null,
   "metadata": {
    "colab": {
     "base_uri": "https://localhost:8080/",
     "height": 281
    },
    "executionInfo": {
     "elapsed": 1726,
     "status": "ok",
     "timestamp": 1609699367777,
     "user": {
      "displayName": "Richard C",
      "photoUrl": "",
      "userId": "08040814671867660929"
     },
     "user_tz": -180
    },
    "id": "ERt5sUIwi4M8",
    "outputId": "31fe9efe-ecc2-4ae8-e461-134d78eed8a7"
   },
   "outputs": [
    {
     "data": {
      "image/png": "[encoded data removed]",
      "text/plain": [
       "<Figure size 432x288 with 1 Axes>"
      ]
     },
     "metadata": {
      "needs_background": "light",
      "tags": []
     },
     "output_type": "display_data"
    }
   ],
   "source": [
    "import seaborn as sns\r\n",
    "import matplotlib.pyplot as plt\r\n",
    "loss = model6.history.history['loss']\r\n",
    "sns.lineplot(x=range(len(loss)),y=loss)\r\n",
    "plt.title(\"Training Loss per Epoch\");"
   ]
  },
  {
   "cell_type": "code",
   "execution_count": null,
   "metadata": {
    "colab": {
     "base_uri": "https://localhost:8080/"
    },
    "executionInfo": {
     "elapsed": 1018,
     "status": "ok",
     "timestamp": 1609699674066,
     "user": {
      "displayName": "Richard C",
      "photoUrl": "",
      "userId": "08040814671867660929"
     },
     "user_tz": -180
    },
    "id": "hzzTAtF3k5_3",
    "outputId": "66b543a2-c186-46a1-de22-a4cc5611a7fb"
   },
   "outputs": [
    {
     "data": {
      "text/plain": [
       "236"
      ]
     },
     "execution_count": 44,
     "metadata": {
      "tags": []
     },
     "output_type": "execute_result"
    }
   ],
   "source": [
    "loss_df.loss.idxmin() "
   ]
  },
  {
   "cell_type": "code",
   "execution_count": null,
   "metadata": {
    "id": "46hrlI_llH8r"
   },
   "outputs": [],
   "source": [
    "from sklearn.metrics import mean_absolute_error\r\n",
    "from sklearn.metrics import mean_squared_error, mean_absolute_error, r2_score\r\n",
    "import numpy as np"
   ]
  },
  {
   "cell_type": "code",
   "execution_count": null,
   "metadata": {
    "id": "TRbo5Z5UlP4-"
   },
   "outputs": [],
   "source": [
    "def eval_metrics(actual, pred):\r\n",
    "    rmse = np.sqrt(mean_squared_error(actual, pred))\r\n",
    "    mae = mean_absolute_error(actual, pred)\r\n",
    "    mse = mean_squared_error(actual, pred)\r\n",
    "    score = r2_score(actual, pred)\r\n",
    "    return print(\"r2_score:\", score, \"\\n\",\"mae:\", mae, \"\\n\",\"mse:\",mse, \"\\n\",\"rmse:\",rmse)"
   ]
  },
  {
   "cell_type": "code",
   "execution_count": null,
   "metadata": {
    "id": "2ngMwPk5laAp"
   },
   "outputs": [],
   "source": [
    "y_pred = model6.predict(X_test)"
   ]
  },
  {
   "cell_type": "code",
   "execution_count": null,
   "metadata": {
    "colab": {
     "base_uri": "https://localhost:8080/"
    },
    "executionInfo": {
     "elapsed": 883,
     "status": "ok",
     "timestamp": 1609700000778,
     "user": {
      "displayName": "Richard C",
      "photoUrl": "",
      "userId": "08040814671867660929"
     },
     "user_tz": -180
    },
    "id": "F7zMsMpOmKCS",
    "outputId": "68e92fc5-ae0d-4faa-ad7c-5a2771745724"
   },
   "outputs": [
    {
     "name": "stdout",
     "output_type": "stream",
     "text": [
      "r2_score: 0.9971349975790853 \n",
      " mae: 4.0296127171465965 \n",
      " mse: 25.189192006166255 \n",
      " rmse: 5.018883541801529\n"
     ]
    }
   ],
   "source": [
    "eval_metrics(y_test, y_pred)"
   ]
  },
  {
   "cell_type": "code",
   "execution_count": null,
   "metadata": {
    "colab": {
     "base_uri": "https://localhost:8080/"
    },
    "executionInfo": {
     "elapsed": 2916,
     "status": "ok",
     "timestamp": 1609699876665,
     "user": {
      "displayName": "Richard C",
      "photoUrl": "",
      "userId": "08040814671867660929"
     },
     "user_tz": -180
    },
    "id": "1k3-gKSdlepr",
    "outputId": "400b6497-e130-4533-adf3-2a83443d771a"
   },
   "outputs": [
    {
     "data": {
      "text/plain": [
       "(300,)"
      ]
     },
     "execution_count": 49,
     "metadata": {
      "tags": []
     },
     "output_type": "execute_result"
    }
   ],
   "source": [
    "y_test.shape"
   ]
  },
  {
   "cell_type": "code",
   "execution_count": null,
   "metadata": {
    "colab": {
     "base_uri": "https://localhost:8080/"
    },
    "executionInfo": {
     "elapsed": 843,
     "status": "ok",
     "timestamp": 1609699887552,
     "user": {
      "displayName": "Richard C",
      "photoUrl": "",
      "userId": "08040814671867660929"
     },
     "user_tz": -180
    },
    "id": "nbuMkuG5lsyp",
    "outputId": "0901f634-886c-48f1-9a1e-7993cbccb2af"
   },
   "outputs": [
    {
     "data": {
      "text/plain": [
       "(300, 1)"
      ]
     },
     "execution_count": 50,
     "metadata": {
      "tags": []
     },
     "output_type": "execute_result"
    }
   ],
   "source": [
    "y_pred.shape"
   ]
  },
  {
   "cell_type": "code",
   "execution_count": null,
   "metadata": {
    "id": "Q2OC0-XVlwX4"
   },
   "outputs": [],
   "source": [
    "my_dict={\"Actual\":y_test, \"Pred\":y_pred.reshape(300,)}\r\n",
    "compare=pd.DataFrame(my_dict)"
   ]
  },
  {
   "cell_type": "code",
   "execution_count": null,
   "metadata": {
    "colab": {
     "base_uri": "https://localhost:8080/",
     "height": 203
    },
    "executionInfo": {
     "elapsed": 2757,
     "status": "ok",
     "timestamp": 1609699963700,
     "user": {
      "displayName": "Richard C",
      "photoUrl": "",
      "userId": "08040814671867660929"
     },
     "user_tz": -180
    },
    "id": "62hiRf33l9KU",
    "outputId": "6ca8ec5c-65f3-4d52-ee14-6f8131b3cf7b"
   },
   "outputs": [
    {
     "data": {
      "text/html": [
       "<div>\n",
       "<style scoped>\n",
       "    .dataframe tbody tr th:only-of-type {\n",
       "        vertical-align: middle;\n",
       "    }\n",
       "\n",
       "    .dataframe tbody tr th {\n",
       "        vertical-align: top;\n",
       "    }\n",
       "\n",
       "    .dataframe thead th {\n",
       "        text-align: right;\n",
       "    }\n",
       "</style>\n",
       "<table border=\"1\" class=\"dataframe\">\n",
       "  <thead>\n",
       "    <tr style=\"text-align: right;\">\n",
       "      <th></th>\n",
       "      <th>Actual</th>\n",
       "      <th>Pred</th>\n",
       "    </tr>\n",
       "  </thead>\n",
       "  <tbody>\n",
       "    <tr>\n",
       "      <th>288</th>\n",
       "      <td>449.458484</td>\n",
       "      <td>449.628784</td>\n",
       "    </tr>\n",
       "    <tr>\n",
       "      <th>174</th>\n",
       "      <td>549.847620</td>\n",
       "      <td>549.997986</td>\n",
       "    </tr>\n",
       "    <tr>\n",
       "      <th>131</th>\n",
       "      <td>420.766213</td>\n",
       "      <td>423.987885</td>\n",
       "    </tr>\n",
       "    <tr>\n",
       "      <th>273</th>\n",
       "      <td>375.959380</td>\n",
       "      <td>381.969147</td>\n",
       "    </tr>\n",
       "    <tr>\n",
       "      <th>226</th>\n",
       "      <td>603.887577</td>\n",
       "      <td>606.049194</td>\n",
       "    </tr>\n",
       "  </tbody>\n",
       "</table>\n",
       "</div>"
      ],
      "text/plain": [
       "         Actual        Pred\n",
       "288  449.458484  449.628784\n",
       "174  549.847620  549.997986\n",
       "131  420.766213  423.987885\n",
       "273  375.959380  381.969147\n",
       "226  603.887577  606.049194"
      ]
     },
     "execution_count": 54,
     "metadata": {
      "tags": []
     },
     "output_type": "execute_result"
    }
   ],
   "source": [
    "compare.sample(5)"
   ]
  },
  {
   "cell_type": "code",
   "execution_count": null,
   "metadata": {
    "id": "IGypFxKjl-my"
   },
   "outputs": [],
   "source": []
  }
 ],
 "metadata": {
  "colab": {
   "authorship_tag": "ABX9TyNElE9fpAXGKO7FlQ0RZwJ4",
   "collapsed_sections": [],
   "name": "00_keras_syntax_basics_inclass_act_richard.ipynb",
   "provenance": []
  },
  "kernelspec": {
   "display_name": "Python 3",
   "language": "python",
   "name": "python3"
  },
  "language_info": {
   "codemirror_mode": {
    "name": "ipython",
    "version": 3
   },
   "file_extension": ".py",
   "mimetype": "text/x-python",
   "name": "python",
   "nbconvert_exporter": "python",
   "pygments_lexer": "ipython3",
   "version": "3.8.5-final"
  }
 },
 "nbformat": 4,
 "nbformat_minor": 4
}